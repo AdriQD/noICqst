{
 "cells": [
  {
   "cell_type": "code",
   "execution_count": 1,
   "metadata": {},
   "outputs": [
    {
     "name": "stderr",
     "output_type": "stream",
     "text": [
      "c:\\Users\\Adriano.Palmieri\\AppData\\Local\\Continuum\\anaconda3\\envs\\qiskit\\lib\\site-packages\\qutip\\__init__.py:59: UserWarning: Old version of Cython detected: needed 0.29.20, got 0.29.15.\n",
      "  warnings.warn(\n"
     ]
    }
   ],
   "source": [
    "import torch\n",
    "import numpy as np\n",
    "from torch import nn\n",
    "import torch.nn.functional as F\n",
    "import qutip as qt\n",
    "\n",
    "from torch.utils.data import Dataset, DataLoader\n"
   ]
  },
  {
   "cell_type": "markdown",
   "metadata": {},
   "source": [
    "# upload"
   ]
  },
  {
   "cell_type": "code",
   "execution_count": 536,
   "metadata": {},
   "outputs": [
    {
     "data": {
      "text/plain": [
       "(100, 1, 256)"
      ]
     },
     "execution_count": 536,
     "metadata": {},
     "output_type": "execute_result"
    }
   ],
   "source": [
    "s = 9\n",
    "#path2 = '4qubitsOAT-TestSet/articlePlotSics1K/sample'+str(s)+'-100stepsSic4qubitsTrials1000OfD.npy'\n",
    "path2 = '4qubitsOAT-TestSet/articlePlotPauliF74/sample'+str(s)+'-100stepsPauli4qubitsF74Ofd.npy'\n",
    "test = np.load(path2, allow_pickle='True')\n",
    "test.shape"
   ]
  },
  {
   "cell_type": "code",
   "execution_count": 537,
   "metadata": {},
   "outputs": [],
   "source": [
    "class StatesDataset(Dataset):\n",
    "\n",
    "    def __init__(self, x):\n",
    "        super().__init__()\n",
    "        self.x = x\n",
    "\n",
    "    def __len__(self):\n",
    "        return len(self.x)\n",
    "\n",
    "    def __getitem__(self, index):\n",
    "        return self.x[index]\n",
    "\n",
    "#train_dataset = StatesDataset(train)\n",
    "#evaluation_dataset = StatesDataset(valid)\n",
    "\n",
    "#test_dataset = StatesDataset(test)"
   ]
  },
  {
   "cell_type": "code",
   "execution_count": 482,
   "metadata": {},
   "outputs": [],
   "source": [
    "\n",
    "class Netbeta(nn.Module):\n",
    "    def __init__(self, state_local_d, num_low_triang, out_channel, nheads, dim_ff ):\n",
    "        super().__init__()\n",
    "\n",
    "        kernel = 3 #tutti i vecchi test a 50\n",
    "\n",
    "        model_dim = state_local_d + num_low_triang*2 - kernel+1\n",
    "\n",
    "\n",
    "        #ENCODING\n",
    "        self.conv1 = nn.Conv1d(1, out_channel, kernel_size = kernel )\n",
    "\n",
    "        #RECONSTRUCTION\n",
    "\n",
    "        self.enc_transf = nn.TransformerEncoderLayer(d_model = model_dim, nhead = nheads, dim_feedforward = dim_ff, batch_first = True) # hereh hidden_size must be D-out/9 to become d_out after flattening\n",
    "        self.relu = torch.nn.ReLU()\n",
    "        self.enc_stack = nn.TransformerEncoder(self.enc_transf, num_layers=1)\n",
    "        #self.conv2 = nn.Conv1d(out_channel, 1, kernel_size = kernel )\n",
    "\n",
    "        self.T = torch.nn.Tanh()\n",
    "        self.G = torch.nn.GELU()\n",
    "\n",
    "\n",
    "\n",
    "        #diagonal part\n",
    "        self.cholesky_diag = torch.nn.Linear(out_channel* model_dim , state_local_d)\n",
    "\n",
    "        # (n*n +n)/2 strictly lower diagonal elements\n",
    "        self.cholesky_lower_t = torch.nn.Linear(out_channel*model_dim, 2*num_low_triang)\n",
    "\n",
    "\n",
    "    def forward(self, x):\n",
    "\n",
    "        #ENCODING\n",
    "\n",
    "        x = F.selu(self.conv1(x))\n",
    "\n",
    "        #DECODING\n",
    "\n",
    "        x= self.G(self.enc_stack(x))\n",
    "        x = torch.flatten(x,1)\n",
    "\n",
    "        diags = F.selu(self.cholesky_diag(x))\n",
    "        off_diags = self.T(self.cholesky_lower_t(x))\n",
    "\n",
    "        return diags, off_diags\n",
    "\n"
   ]
  },
  {
   "cell_type": "markdown",
   "metadata": {},
   "source": [
    "##cholesky model"
   ]
  },
  {
   "cell_type": "code",
   "execution_count": 483,
   "metadata": {},
   "outputs": [],
   "source": [
    "def return_matrix_elements(stuff,d,local_dim):\n",
    "\n",
    "\tdiag_len = local_dim**d\n",
    "\t#print(diag_len)\n",
    "\n",
    "\tnon_diag_len = (local_dim**(2*d) -diag_len)/2\n",
    "\t#print(non_diag_len)\n",
    "\n",
    "\t#head-up: local dim**(2d) is also the length of the initial state. The total dimension of the input is 2Xlocal dim**(2d)\n",
    "\n",
    "\tdiagel = stuff[local_dim**(2*d) : local_dim**(2*d)  + diag_len  ]\n",
    "\toffd = stuff[ local_dim**(2*d)  + diag_len :  ]\n",
    "\t#print(len(imag))\n",
    "\treturn diagel, offd\n",
    "\n"
   ]
  },
  {
   "cell_type": "code",
   "execution_count": 484,
   "metadata": {},
   "outputs": [],
   "source": [
    "def rebuild_last(diags,offd,ind):\n",
    "    '''''\n",
    "    input.\n",
    "    diags : diags elements\n",
    "    offds : offdiagonal elements\n",
    "    rhoshape : just the dm dimension, e.g. number of rows\n",
    "    localDim : the number of level of each particle\n",
    "    numParticles : the total number of particles for tensor product\n",
    "\n",
    "    output.\n",
    "    m : reconstructed cholesky decoposition matrix\n",
    "    '''''\n",
    "    d = len(diags)\n",
    "    eye = np.eye(d,d)\n",
    "    mat = np.zeros((d,d),dtype = complex)\n",
    "\n",
    "    offvalues = [ (a+1j*b) for (a,b) in zip(offd[:int(len(offd)/2 ) ], offd[int(len(offd)/2):])  ]\n",
    "    mat[ind[0], ind[1]] = offvalues\n",
    "\n",
    "    return mat + eye*diags"
   ]
  },
  {
   "attachments": {},
   "cell_type": "markdown",
   "metadata": {},
   "source": [
    "## SOME NETWORK PARAMETERS"
   ]
  },
  {
   "cell_type": "code",
   "execution_count": 485,
   "metadata": {},
   "outputs": [
    {
     "data": {
      "text/plain": [
       "Netbeta(\n",
       "  (conv1): Conv1d(1, 3, kernel_size=(3,), stride=(1,))\n",
       "  (enc_transf): TransformerEncoderLayer(\n",
       "    (self_attn): MultiheadAttention(\n",
       "      (out_proj): NonDynamicallyQuantizableLinear(in_features=254, out_features=254, bias=True)\n",
       "    )\n",
       "    (linear1): Linear(in_features=254, out_features=30, bias=True)\n",
       "    (dropout): Dropout(p=0.1, inplace=False)\n",
       "    (linear2): Linear(in_features=30, out_features=254, bias=True)\n",
       "    (norm1): LayerNorm((254,), eps=1e-05, elementwise_affine=True)\n",
       "    (norm2): LayerNorm((254,), eps=1e-05, elementwise_affine=True)\n",
       "    (dropout1): Dropout(p=0.1, inplace=False)\n",
       "    (dropout2): Dropout(p=0.1, inplace=False)\n",
       "  )\n",
       "  (relu): ReLU()\n",
       "  (enc_stack): TransformerEncoder(\n",
       "    (layers): ModuleList(\n",
       "      (0): TransformerEncoderLayer(\n",
       "        (self_attn): MultiheadAttention(\n",
       "          (out_proj): NonDynamicallyQuantizableLinear(in_features=254, out_features=254, bias=True)\n",
       "        )\n",
       "        (linear1): Linear(in_features=254, out_features=30, bias=True)\n",
       "        (dropout): Dropout(p=0.1, inplace=False)\n",
       "        (linear2): Linear(in_features=30, out_features=254, bias=True)\n",
       "        (norm1): LayerNorm((254,), eps=1e-05, elementwise_affine=True)\n",
       "        (norm2): LayerNorm((254,), eps=1e-05, elementwise_affine=True)\n",
       "        (dropout1): Dropout(p=0.1, inplace=False)\n",
       "        (dropout2): Dropout(p=0.1, inplace=False)\n",
       "      )\n",
       "    )\n",
       "  )\n",
       "  (T): Tanh()\n",
       "  (G): GELU(approximate='none')\n",
       "  (cholesky_diag): Linear(in_features=762, out_features=16, bias=True)\n",
       "  (cholesky_lower_t): Linear(in_features=762, out_features=240, bias=True)\n",
       ")"
      ]
     },
     "execution_count": 485,
     "metadata": {},
     "output_type": "execute_result"
    }
   ],
   "source": [
    "local_dim = 16\n",
    "dim = 1\n",
    "batch_size = 2000\n",
    "\n",
    "\n",
    "device = torch.device('cpu')\n",
    "\n",
    "themodelbeta = torch.load('4qubitsOAT-models/4qubitWithCholLayersTransformer100000-fid993multinomial.pth',map_location=device)\n",
    "themodelbeta.eval()"
   ]
  },
  {
   "cell_type": "markdown",
   "metadata": {},
   "source": [
    "### TESTING"
   ]
  },
  {
   "cell_type": "code",
   "execution_count": 538,
   "metadata": {},
   "outputs": [
    {
     "name": "stdout",
     "output_type": "stream",
     "text": [
      "(16, 16)\n"
     ]
    }
   ],
   "source": [
    "#just generate ones the index for the recosntruction using a dull matrix\n",
    "\n",
    "def fid(a,b):\n",
    "  fid = qt.fidelity(qt.Qobj(a), qt.Qobj(b))\n",
    "  return torch.tensor(fid)\n",
    "\n",
    "#parameters\n",
    "qfid =0\n",
    "j=0\n",
    "hs = []\n",
    "fids =[]\n",
    "\n",
    "# generate support diagonal matrix for reconstruction\n",
    "e = np.eye(local_dim**(dim),local_dim**(dim))\n",
    "print(e.shape)\n",
    "\n",
    "#indeces for the reconstruction function\n",
    "ind = np.tril_indices_from(e,k=-1)\n",
    "\n"
   ]
  },
  {
   "cell_type": "code",
   "execution_count": 539,
   "metadata": {},
   "outputs": [],
   "source": [
    "\n",
    "test_dataset = StatesDataset(test)\n",
    "gl_dataloader = torch.utils.data.DataLoader(\n",
    "    test_dataset, batch_size = batch_size, shuffle =False,\n",
    "    pin_memory = True)"
   ]
  },
  {
   "cell_type": "code",
   "execution_count": 540,
   "metadata": {},
   "outputs": [],
   "source": [
    "file_ = []\n",
    "originals = []\n",
    "\n",
    "\n",
    "with torch.no_grad():\n",
    "  for inputsT in gl_dataloader:\n",
    "\n",
    "    inputsT = inputsT.to(device)\n",
    "\n",
    "    #out_d is the diagonal, out_tr the triangluar values, real and complex altogether\n",
    "    newinT = torch.reshape(inputsT[:,:local_dim**(2*dim)  ], (inputsT.shape[0],1,local_dim**2) )\n",
    "\n",
    "    out_d, out_tr = themodelbeta(newinT)\n",
    "\n",
    "    for i in range(out_d.shape[0]):\n",
    "\n",
    "      #reconstructing cholesky from dataset input array. NO MORE NEEDED\n",
    "      #diagel, offd = return_matrix_elements( inputsT[i].cpu().numpy(), dim, local_dim)\n",
    "\n",
    "      #original_chol = rebuild_last(diagel, offd , ind)\n",
    "\n",
    "      #reconstructing cholesky from neural network outputs\n",
    "\n",
    "      nn_diag = out_d[i].cpu().numpy()\n",
    "      nn_offd = out_tr[i,:int(out_tr.shape[1])].cpu().numpy()\n",
    "\n",
    "      nn_chol = rebuild_last(nn_diag, nn_offd, ind)\n",
    "\n",
    "      cholo=nn_chol@ nn_chol.conj().T\n",
    "\n",
    "      norm = np.trace(cholo)\n",
    "\n",
    "      file_.append(cholo/norm)\n"
   ]
  },
  {
   "cell_type": "code",
   "execution_count": 541,
   "metadata": {},
   "outputs": [
    {
     "data": {
      "text/plain": [
       "(['rho_target'], (100, 16, 16))"
      ]
     },
     "execution_count": 541,
     "metadata": {},
     "output_type": "execute_result"
    }
   ],
   "source": [
    "len(file_)\n",
    "import pandas as pd\n",
    "\n",
    "ofd = pd.read_pickle('outofdistribution100.pkl')\n",
    "\n",
    "list(ofd),np.array(file_).shape"
   ]
  },
  {
   "cell_type": "code",
   "execution_count": 542,
   "metadata": {},
   "outputs": [],
   "source": [
    "add = []\n",
    "for step in range(len(file_)):\n",
    "    add.append(fid(ofd['rho_target'][step],file_[step]))"
   ]
  },
  {
   "cell_type": "code",
   "execution_count": 543,
   "metadata": {},
   "outputs": [
    {
     "name": "stdout",
     "output_type": "stream",
     "text": [
      "0.95240504 0.015667917 100\n"
     ]
    }
   ],
   "source": [
    "print(np.mean(add),np.std(add), len(add))\n"
   ]
  },
  {
   "cell_type": "markdown",
   "metadata": {},
   "source": [
    "## BELL CORRELATORS"
   ]
  },
  {
   "cell_type": "code",
   "execution_count": 60,
   "metadata": {},
   "outputs": [],
   "source": [
    "X = np.array([[0,1],[1,0]])/2\n",
    "Y = np.array([[0,-1j],[1j,0]])/2\n",
    "Z = np.array( [[1,0],[0,-1]]  )/2\n",
    "N= 4\n",
    "\n",
    "\n",
    "def J(o):\n",
    "    \"Computes the matrix representation of the collective operator J=\\sum_{i=1}^No^{(i)} in the computational basis\"\n",
    "    def O(i):\n",
    "        return np.kron(np.identity(2**i),np.kron(o,np.identity(2**(N-i-1))))\n",
    "    return np.sum([O(i) for i in range(N)],0)\n",
    "\n",
    "def QFI(rho, G):\n",
    "    Eigen_vals, eigen_vecs = np.linalg.eigh(rho)\n",
    "    qfi_val=0.0\n",
    "    for i in range(len(Eigen_vals)):\n",
    "       for j in range(len(Eigen_vals)):\n",
    "           if Eigen_vals[i]+Eigen_vals[j]>1e-10:\n",
    "                J_z_i_j = (eigen_vecs[:, i].conjugate().transpose() @ G) @ eigen_vecs[:, j]\n",
    "                qfi_val += (((Eigen_vals[i] - Eigen_vals[j])**2)/(Eigen_vals[i]+Eigen_vals[j]))*(np.abs(J_z_i_j))**2\n",
    "    return 2*qfi_val.real"
   ]
  },
  {
   "cell_type": "code",
   "execution_count": 148,
   "metadata": {},
   "outputs": [],
   "source": [
    "Jx = J(X)\n",
    "Jz = J(Z)\n",
    "Jy = J(Y)\n",
    "\n",
    "def Jav(r):\n",
    "\n",
    "    return (np.trace(r@Jx))**2 + (np.trace(r@Jy))**2  + (np.trace(r@Jz))**2 "
   ]
  },
  {
   "cell_type": "code",
   "execution_count": 544,
   "metadata": {},
   "outputs": [],
   "source": [
    "Javlist = []\n",
    "Jbells = []\n",
    "JLi = []\n",
    "\n",
    "for step in range(100):\n",
    "    Javlist.append(Jav(ofd['rho_target'][step]))\n",
    "\n",
    "for step in range(100):\n",
    "    Jbells.append(Jav(file_[step]))\n",
    "\n",
    "for step in range(100):\n",
    "    liInputStates = rebuild_last(test[step][0][:16],test[step][0][16:],ind)\n",
    "    JLi.append(Jav(liInputStates @ liInputStates.T.conj()))"
   ]
  },
  {
   "cell_type": "code",
   "execution_count": 545,
   "metadata": {},
   "outputs": [],
   "source": [
    "def corr(rho):\n",
    "    Jvect = [Jx,Jy,Jz]\n",
    "\n",
    "    C = np.real([[np.trace(Jvect[a] @ Jvect[b] @ rho) for a in range(3)] for b in range(3)])\n",
    "    M = np.real([[np.trace(Jvect[a] @ rho)*np.trace(Jvect[b] @ rho) for a in range(3)] for b in range(3)])\n",
    "    return C - M\n",
    "    "
   ]
  },
  {
   "cell_type": "code",
   "execution_count": 546,
   "metadata": {},
   "outputs": [],
   "source": [
    "corrtarget = []\n",
    "corrnn = []\n",
    "corrli = []\n",
    "\n",
    "LI_dm = []\n",
    "\n",
    "for step in range(100):\n",
    "    corrtarget.append(corr(ofd['rho_target'][step]))\n",
    "    corrnn.append(corr(file_[step]))\n",
    "\n",
    "    liInputs = rebuild_last(test[step][0][:16],test[step][0][16:],ind)\n",
    "    LI_dm.append(liInputs @ liInputs.T.conj())\n",
    "    \n",
    "    corrli.append(corr(liInputs @ liInputs.T.conj()))\n",
    "\n",
    "def maxEigandeigv(r):\n",
    "\n",
    "    _, vector = np.linalg.eigh(r)\n",
    "    return vector[:,-1]\n"
   ]
  },
  {
   "cell_type": "code",
   "execution_count": 547,
   "metadata": {},
   "outputs": [
    {
     "data": {
      "image/png": "[encoded data removed]",
      "text/plain": [
       "<Figure size 640x480 with 1 Axes>"
      ]
     },
     "metadata": {},
     "output_type": "display_data"
    }
   ],
   "source": [
    "import matplotlib.pyplot as plt\n",
    "\n",
    "font = {'family': 'serif',\n",
    "        'color':  'black',\n",
    "        'weight': 'normal',\n",
    "        'size': 16,\n",
    "        }\n",
    "triadic = ['#6666e0', '#66e066','#e06666']\n",
    "passi = 100\n",
    "\n",
    "nt = '10^5trials-'\n",
    "fig, ax = plt.subplots()\n",
    "\n",
    "\n",
    "#This is for QUANTUM fisher\n",
    "\n",
    "\n",
    "ytarget= [ max(np.linalg.eigvals(m)) for m in corrtarget ]\n",
    "y2t = [ max(np.linalg.eigvals(m2)) for m2 in corrnn ]\n",
    "\n",
    "y2x = [ maxEigandeigv(m2) for m2 in corrnn ]\n",
    "\n",
    "y2 = [ QFI(np.array(n), y2x[m][0]*Jx+ y2x[m][1]*Jy+ y2x[m][2]*Jz ) for m,n in zip(range(len(y2x)),file_) ]\n",
    "\n",
    "y3t = [ max(np.linalg.eigvals(m2)) for m2 in corrli ]\n",
    "y3x = [ maxEigandeigv(m3) for m3 in corrli ]\n",
    "y3 = [ QFI(np.array(n), y3x[m][0]*Jx+ y3x[m][1]*Jy+ y3x[m][2]*Jz ) for m,n in zip(range(len(y3x)),LI_dm) ]\n",
    "\n",
    "np.save('4qubitsOAT-TestSet/articlePlotPauliF74/Fisherytarget-'+str(s)+'.npy',ytarget)\n",
    "np.save('4qubitsOAT-TestSet/articlePlotPauliF74/Fishery2-'+str(s)+'.npy',y2)\n",
    "np.save('4qubitsOAT-TestSet/articlePlotPauliF74/Fishery3-'+str(s)+'.npy',y3)\n",
    "\n",
    "t = np.arange(passi)\n",
    "ax.plot(t/passi, ytarget, label = 'target', color = triadic[0])\n",
    "ax.plot(t/passi,np.array(y2)/4, label = 'reconstructed 10^5', color = triadic[1])\n",
    "ax.plot(t/passi,y3t, label = 'max eig QFI LI', color = 'purple')\n",
    "\n",
    "#ax.plot(t/passi,np.array(y3)/4, label = 'LI reconstruction 10^5', color = triadic[2])\n",
    "\n",
    "#plt.xlabel('HS distance', fontsize = 15)\n",
    "plt.ylabel('QFI', fontsize = 14)\n",
    "plt.title(\"Quantum Fisher Information from Pauli\", fontdict = font)\n",
    "\n",
    "ax.xaxis.set_tick_params(width= 2)\n",
    "ax.yaxis.set_tick_params(width= 2)\n",
    "plt.tick_params(axis='both', which='major', labelsize=14)\n",
    "\n",
    "plt.legend(prop={'size': 12},frameon=False, fancybox = False)\n",
    "#plt.savefig(nt+'FisherFromPauli-OATreconstructedStates100steps.pdf', format = 'pdf',bbox_inches=\"tight\")\n",
    "\n",
    "ax.grid()"
   ]
  },
  {
   "cell_type": "code",
   "execution_count": 548,
   "metadata": {},
   "outputs": [],
   "source": [
    "del(gl_dataloader)\n"
   ]
  },
  {
   "cell_type": "markdown",
   "metadata": {},
   "source": [
    "## spin squeeze"
   ]
  },
  {
   "cell_type": "code",
   "execution_count": null,
   "metadata": {},
   "outputs": [],
   "source": [
    "import matplotlib.pyplot as plt\n",
    "\n",
    "font = {'family': 'serif',\n",
    "        'color':  'black',\n",
    "        'weight': 'normal',\n",
    "        'size': 16,\n",
    "        }\n",
    "\n",
    "\n",
    "nt = '10^5trials-'\n",
    "fig, ax = plt.subplots()\n",
    "\n",
    "#This is for spin squeeze\n",
    "nytarget= [ min(np.linalg.eigvals(m[1:3,1:3])) for m in corrtarget ]\n",
    "ny2 = [ min(np.linalg.eigvals(m2[1:3, 1:3])) for m2 in corrnn ]\n",
    "ny3 = [ min(np.linalg.eigvals(m3[1:3, 1:3])) for m3 in corrli ]\n",
    "\n",
    "\n",
    "ytargetNormalize = np.array(Javlist)/np.array(nytarget)  #[ a.real/b.real for a,b in zip(Javlist, ytarget)  ]\n",
    "y2Normalize = [ a.real/b.real for a,b in zip(Jbells, ny2)  ]\n",
    "y3Normalize = [ a.real/b.real for a,b in zip(JLi, ny3)  ]\n",
    "\n",
    "np.save('4qubitsOAT-TestSet/articlePlotSics100K/SSytargetNormalize-'+str(s)+'.npy',ytargetNormalize)\n",
    "np.save('4qubitsOAT-TestSet/articlePlotSics100K/SSy2Normalize-'+str(s)+'.npy',y2Normalize)\n",
    "np.save('4qubitsOAT-TestSet/articlePlotSics100K/SSy3Normalize-'+str(s)+'.npy',y3Normalize)\n",
    "\n",
    "t = np.arange(100)\n",
    "\n",
    "ax.scatter(t/100, ytargetNormalize, label = 'target', color = triadic[0])\n",
    "ax.plot(t/100, y2Normalize, label = 'reconstructed 10^5', color = triadic[1])\n",
    "ax.plot(t/100, y3Normalize, label = 'LI reconstruction 10^5', color = triadic[2])\n",
    "plt.xlabel('t/pi', fontsize = 15)\n",
    "plt.ylabel('Spin squeezing', fontsize =15)\n",
    "plt.title(\"Spin squeezing from Pauli\", fontdict = font)\n",
    "\n",
    "ax.xaxis.set_tick_params(width= 2)\n",
    "ax.yaxis.set_tick_params(width= 2)\n",
    "plt.tick_params(axis='both', which='major', labelsize=14)\n",
    "\n",
    "plt.legend(loc = 'upper right', prop={'size': 10},frameon=False, fancybox = False)\n",
    "#plt.savefig(nt+'SSFromPauli-OATreconstructedStates100steps.pdf', format = 'pdf',bbox_inches=\"tight\")\n",
    "\n",
    "ax.grid()"
   ]
  }
 ],
 "metadata": {
  "kernelspec": {
   "display_name": "qiskit",
   "language": "python",
   "name": "python3"
  },
  "language_info": {
   "codemirror_mode": {
    "name": "ipython",
    "version": 3
   },
   "file_extension": ".py",
   "mimetype": "text/x-python",
   "name": "python",
   "nbconvert_exporter": "python",
   "pygments_lexer": "ipython3",
   "version": "3.8.18"
  },
  "orig_nbformat": 4
 },
 "nbformat": 4,
 "nbformat_minor": 2
}
