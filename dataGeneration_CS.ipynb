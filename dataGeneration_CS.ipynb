{
 "cells": [
  {
   "cell_type": "markdown",
   "metadata": {},
   "source": [
    "## Compressive sensing"
   ]
  },
  {
   "cell_type": "markdown",
   "metadata": {},
   "source": [
    "Quantum state tomography aims to reconstruct the density matrix of a quantum system from measurement data. Traditional approaches rely on informationally complete measurements, which require a large number of different measurement settings, making the process resource-intensive. Compressive sensing offers an alternative that allows for reconstruction using fewer measurements by leveraging the sparsity of quantum states in a suitable basis.\n",
    "\n",
    "### **Overview of the Code**\n",
    "\n",
    "This code implements a compressive sensing approach to quantum state tomography, where the density matrix is reconstructed from incomplete measurement data using convex optimization techniques.\n",
    "\n",
    "#### **Key Steps in the Code**\n",
    "\n",
    "1. **Generating Pauli Measurement Bases** (`string2paulibasis`)\n",
    "   - Given a list of binary strings, this function constructs tensor products of Pauli matrices to form measurement bases for multi-qubit systems.\n",
    "   - The Pauli matrices are represented as:\n",
    "     - X = [[1, 1], [1, -1]] / sqrt(2)\n",
    "     - Y = [[1, 1], [i, -i]] / sqrt(2)\n",
    "     - Z = [[1, 0], [0, 1]]\n",
    "   - The function iterates through the list of indices and constructs the tensor product of these matrices accordingly.\n",
    "\n",
    "2. **Constructing Measurement Operators** (`base2operator`)\n",
    "   - Converts the measurement bases into a vectorized representation of POVM elements.\n",
    "   - The function constructs projectors corresponding to the basis vectors and normalizes them.\n",
    "   - If required, it reshapes the POVMs into a vectorized form to align with the linear tomography framework.\n",
    "\n",
    "3. **Generating a Random Quantum State** (`density_matrix`)\n",
    "   - Samples a Haar-random pure state and constructs its density matrix as `|ψ⟩⟨ψ|`.\n",
    "\n",
    "4. **Reconstructing the Density Matrix Using Compressive Sensing** (`compressed_sensing`)\n",
    "   - Given measured probabilities and the POVM matrix, the density matrix is estimated using convex optimization.\n",
    "   - The constraints ensure:\n",
    "     - The reconstructed matrix is positive semidefinite.\n",
    "     - The trace is normalized to 1.\n",
    "     - The measured probabilities satisfy a bound determined by the measurement noise.\n",
    "   - The objective function minimizes the nuclear norm (sum of singular values) to promote low-rank solutions.\n",
    "\n",
    "### **Mathematical Formulation**\n",
    "\n",
    "The probability of measuring a specific outcome is given by Born’s rule: $P(E_i | \\rho) = \\text{Tr}(E_i \\rho)$\n",
    "where $E_i$ are the measurement operators (POVM elements) and $\\rho$ is the density matrix.\n",
    "\n",
    "In a standard quantum state tomography setup, we collect a set of probabilities $p_i$ and solve the linear system:\n",
    "$A^\\dagger \\vec{\\rho} = \\vec{p}$\n",
    "where $A = (\\vec{E}_1, \\vec{E}_2, \\dots, \\vec{E}_n )$ contains vectorized POVM elements. Since our measurements are not informationally complete, we use compressive sensing techniques to estimate $\\rho$ by solving:\n",
    "$$ \\min_{\\rho} \\| \\rho \\|_{\\ast}, \\quad \\text{subject to } \\| A^\\dagger \\vec{\\rho} - \\vec{p} \\| \\leq \\epsilon, \\quad \\rho\\geq 0,  \\quad tr(\\rho)=1,$$\n",
    "where $\\| \\rho \\|_{\\ast}$ is the nuclear norm (sum of singular values) and $\\epsilon$ accounts for noise in the measurements.\n",
    "\n"
   ]
  },
  {
   "cell_type": "code",
   "execution_count": 1,
   "metadata": {},
   "outputs": [
    {
     "name": "stdout",
     "output_type": "stream",
     "text": [
      "(CVXPY) Mar 21 12:05:25 PM: Encountered unexpected exception importing solver OSQP:\n",
      "ImportError('DLL load failed while importing qdldl: No se puede encontrar el módulo especificado.')\n"
     ]
    }
   ],
   "source": [
    "import numpy as np\n",
    "import scipy as sp\n",
    "import cvxpy as cp"
   ]
  },
  {
   "cell_type": "code",
   "execution_count": 2,
   "metadata": {},
   "outputs": [],
   "source": [
    "def string2paulibasis(idx):\n",
    "    \"\"\"\n",
    "    Given a list of binary strings, gives the Pauli bases. \n",
    "    PARAMETERS:\n",
    "        idx: list. List of strings of the form \"012...\"\n",
    "    RETURNS:\n",
    "        bases: (2**n_qubits, 2**n_qubits, len(idx)) complex array. It contains\n",
    "              the bases associated to the Pauli strings in idx.\n",
    "    \"\"\"\n",
    "    # define the one-qubit bases\n",
    "    X = np.array([[1., 1.], [1., -1.]], dtype=complex)/np.sqrt(2)\n",
    "    Y = np.array([[1, 1], [1.*1j, -1.*1j]], dtype=complex)/np.sqrt(2) \n",
    "    Z = np.array([[1, 0], [0, 1]], dtype=complex)\n",
    "    sigma = np.stack([X, Y, Z], axis=-1)\n",
    "    n_qubits = len(idx[0])\n",
    "    bases = np.zeros((2**n_qubits, 2**n_qubits, len(idx)), dtype=\"complex\")\n",
    "    # calculate all the combinations of tensor products\n",
    "    for i in range(len(idx)):\n",
    "        basis_i = 1\n",
    "        for k in range(n_qubits):\n",
    "            basis_i = np.kron(basis_i, sigma[:, :, int(idx[i][k])])\n",
    "        bases[:, :, i] = basis_i\n",
    "    return bases\n",
    "\n",
    "\n",
    "def base2operator(matrix, vec=False):\n",
    "    \"\"\"\n",
    "    Dada una lista de bases construye la representacion vectorial de el POVM\n",
    "    IN\n",
    "        matrix: array di x di x N. Bases.\n",
    "    OUT\n",
    "        vectores: array di x N. Agrupa todos los observables\n",
    "    \"\"\"\n",
    "    dim = matrix.shape\n",
    "    if len(dim) == 2:\n",
    "        A = np.zeros((dim[0], dim[0], dim[1]), dtype=\"complex\")\n",
    "        for k in range(dim[1]):\n",
    "            evector = matrix[:, k].reshape(-1, 1)\n",
    "            projector = np.kron(evector.conj().T, evector)\n",
    "            A[:, :, k] = projector\n",
    "    else:\n",
    "        A = np.zeros((dim[0], dim[0], dim[2]*dim[1]), dtype=\"complex\")\n",
    "        for j in range(dim[2]):\n",
    "            for k in range(dim[1]):\n",
    "                evector = matrix[:, k, j].reshape(-1, 1)\n",
    "                projector = np.kron(evector.conj().T, evector)\n",
    "                A[:, :, dim[0]*j + k] = projector/int(matrix.shape[-1])\n",
    "    if vec:\n",
    "        A = A.reshape(dim[0]**2, -1, order=\"F\")\n",
    "    \n",
    "    return A\n",
    "\n",
    "\n",
    "def density_matrix(di):\n",
    "    \"Density matrix for a random pure state of dimension di\"\n",
    "\n",
    "    psi = sp.stats.unitary_group.rvs(di)[:, 0]\n",
    "    dens = np.outer(psi.conj(), psi)\n",
    "    \n",
    "    return dens\n",
    "\n",
    "\n",
    "\n",
    "def compressed_sensing(prob, A, epsilon):\n",
    "    \"\"\"\n",
    "    Gets the density matrix using the matrix of POVMs A and the measured\n",
    "    probabilities using compressive sensing.\n",
    "    IN\n",
    "        prob: array (di*N, ). probabilities\n",
    "        A: array (di, di, N). Matrix with all the POVM elements\n",
    "    OUT\n",
    "        dens: array (di, di). density matrix.\n",
    "    \"\"\"\n",
    "    # optimizacion convexa\n",
    "    di2 = A.shape[0]\n",
    "    di = int(np.sqrt(di2))\n",
    "    de = cp.Variable((di, di), hermitian=True)\n",
    "    constraints = [de >> 0]\n",
    "    constraints += [cp.trace(de) == 1]\n",
    "    constraints += [cp.norm(A.conj().T@cp.reshape(de, (di2, 1), order=\"F\")\n",
    "                   - prob.reshape(-1, 1)) <= epsilon]\n",
    "    objective = cp.Minimize(cp.normNuc(de))\n",
    "    problema = cp.Problem(objective, constraints)\n",
    "    result = problema.solve()\n",
    "\n",
    "\n",
    "    return de.value/np.trace(de.value)"
   ]
  },
  {
   "cell_type": "code",
   "execution_count": 3,
   "metadata": {},
   "outputs": [],
   "source": [
    "# set the number of qubits, the Pauli bases to measure and the shots\n",
    "n_qubits = 4\n",
    "di = 2**n_qubits\n",
    "idx = [\"0000\", \"1111\", \"2222\"]\n",
    "n_shots = 10**6"
   ]
  },
  {
   "cell_type": "code",
   "execution_count": null,
   "metadata": {},
   "outputs": [],
   "source": [
    "# definition state and others\n",
    "dens = density_matrix(di)\n",
    "paulis = string2paulibasis(idx)\n",
    "# vectorized version of the POVM\n",
    "vec_paulis = base2operator(paulis, True)\n",
    "# we calculate the exact probabilities and the ones with shot noise\n",
    "probs = np.abs(vec_paulis.conj().T@dens.reshape(-1, 1, order=\"F\"))\n",
    "exp_probs = np.random.multinomial(n_shots, probs.flatten())/n_shots"
   ]
  },
  {
   "cell_type": "code",
   "execution_count": 5,
   "metadata": {},
   "outputs": [
    {
     "name": "stdout",
     "output_type": "stream",
     "text": [
      "fidelity:  0.259 fidelity_shots:  0.259\n"
     ]
    }
   ],
   "source": [
    "# this is the tomography with a finite number of shots\n",
    "epsilon_shots = np.sqrt(np.sum(exp_probs*(1 - exp_probs))/n_shots)\n",
    "dens_estimated_shots = compressed_sensing(exp_probs, vec_paulis, epsilon_shots)\n",
    "# this is the tomography using an infinite number of shots\n",
    "epsilon = 0\n",
    "dens_estimated = compressed_sensing(probs, vec_paulis, epsilon)\n",
    "\n",
    "print(\"fidelity: \", np.round(np.abs(np.trace(dens_estimated@dens)), 3), \n",
    "      \"fidelity_shots: \", np.round(np.abs(np.trace(dens_estimated_shots@dens)), 3))"
   ]
  },
  {
   "cell_type": "code",
   "execution_count": null,
   "metadata": {},
   "outputs": [],
   "source": []
  }
 ],
 "metadata": {
  "kernelspec": {
   "display_name": "comp_cuant",
   "language": "python",
   "name": "python3"
  },
  "language_info": {
   "codemirror_mode": {
    "name": "ipython",
    "version": 3
   },
   "file_extension": ".py",
   "mimetype": "text/x-python",
   "name": "python",
   "nbconvert_exporter": "python",
   "pygments_lexer": "ipython3",
   "version": "3.10.11"
  }
 },
 "nbformat": 4,
 "nbformat_minor": 2
}
