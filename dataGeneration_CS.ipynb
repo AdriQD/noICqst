{
 "cells": [
  {
   "cell_type": "markdown",
   "metadata": {},
   "source": [
    "## Compressive sensing"
   ]
  },
  {
   "cell_type": "markdown",
   "metadata": {},
   "source": [
    "Quantum state tomography aims to reconstruct the density matrix of a quantum system from measurement data. Traditional approaches rely on informationally complete measurements, which require a large number of different measurement settings, making the process resource-intensive. Compressive sensing offers an alternative that allows for reconstruction using fewer measurements by leveraging the sparsity of quantum states in a suitable basis.\n",
    "\n",
    "### **Overview of the Code**\n",
    "\n",
    "This code implements a compressive sensing approach to quantum state tomography, where the density matrix is reconstructed from incomplete measurement data using convex optimization techniques.\n",
    "\n",
    "#### **Key Steps in the Code**\n",
    "\n",
    "1. **Generating Pauli Measurement Bases** (`string2paulibasis`)\n",
    "   - Given a list of binary strings, this function constructs tensor products of Pauli matrices to form measurement bases for multi-qubit systems.\n",
    "   - The Pauli matrices are represented as:\n",
    "     - X = [[1, 1], [1, -1]] / sqrt(2)\n",
    "     - Y = [[1, 1], [i, -i]] / sqrt(2)\n",
    "     - Z = [[1, 0], [0, 1]]\n",
    "   - The function iterates through the list of indices and constructs the tensor product of these matrices accordingly.\n",
    "\n",
    "2. **Constructing Measurement Operators** (`base2operator`)\n",
    "   - Converts the measurement bases into a vectorized representation of POVM elements.\n",
    "   - The function constructs projectors corresponding to the basis vectors and normalizes them.\n",
    "   - If required, it reshapes the POVMs into a vectorized form to align with the linear tomography framework.\n",
    "\n",
    "3. **Generating a Random Quantum State** (`density_matrix`)\n",
    "   - Samples a Haar-random pure state and constructs its density matrix as `|ψ⟩⟨ψ|`.\n",
    "\n",
    "4. **Reconstructing the Density Matrix Using Compressive Sensing** (`compressed_sensing`)\n",
    "   - Given measured probabilities and the POVM matrix, the density matrix is estimated using convex optimization.\n",
    "   - The constraints ensure:\n",
    "     - The reconstructed matrix is positive semidefinite.\n",
    "     - The trace is normalized to 1.\n",
    "     - The measured probabilities satisfy a bound determined by the measurement noise.\n",
    "   - The objective function minimizes the nuclear norm (sum of singular values) to promote low-rank solutions.\n",
    "\n",
    "### **Mathematical Formulation**\n",
    "\n",
    "The probability of measuring a specific outcome is given by Born’s rule: $P(E_i | \\rho) = \\text{Tr}(E_i \\rho)$\n",
    "where $E_i$ are the measurement operators (POVM elements) and $\\rho$ is the density matrix.\n",
    "\n",
    "In a standard quantum state tomography setup, we collect a set of probabilities $p_i$ and solve the linear system:\n",
    "$A^\\dagger \\vec{\\rho} = \\vec{p}$\n",
    "where $A = (\\vec{E}_1, \\vec{E}_2, \\dots, \\vec{E}_n )$ contains vectorized POVM elements. Since our measurements are not informationally complete, we use compressive sensing techniques to estimate $\\rho$ by solving:\n",
    "$$ \\min_{\\rho} \\| \\rho \\|_{\\ast}, \\quad \\text{subject to } \\| A^\\dagger \\vec{\\rho} - \\vec{p} \\| \\leq \\epsilon, \\quad \\rho\\geq 0,  \\quad tr(\\rho)=1,$$\n",
    "where $\\| \\rho \\|_{\\ast}$ is the nuclear norm (sum of singular values) and $\\epsilon$ accounts for noise in the measurements.\n",
    "\n"
   ]
  },
  {
   "cell_type": "code",
   "execution_count": 1,
   "metadata": {},
   "outputs": [
    {
     "name": "stdout",
     "output_type": "stream",
     "text": [
      "(CVXPY) Mar 25 09:41:18 AM: Encountered unexpected exception importing solver CLARABEL:\n",
      "ImportError('DLL load failed while importing clarabel: The specified procedure could not be found.')\n",
      "(CVXPY) Mar 25 09:41:19 AM: Encountered unexpected exception importing solver OSQP:\n",
      "ImportError('DLL load failed while importing qdldl: The specified module could not be found.')\n"
     ]
    }
   ],
   "source": [
    "import numpy as np\n",
    "import scipy as sp\n",
    "import cvxpy as cp"
   ]
  },
  {
   "cell_type": "code",
   "execution_count": null,
   "metadata": {},
   "outputs": [],
   "source": [
    "def string2paulibasis(idx):\n",
    "\t\"\"\"\n",
    "\tGiven a list of binary strings, gives the Pauli bases. \n",
    "\tPARAMETERS:\n",
    "\t\tidx: list. List of strings of the form \"012...\" where  we do the following 0:X, 1: Y, 2:Z\n",
    "\tRETURNS:\n",
    "\t\tbases: (2**n_qubits, 2**n_qubits, len(idx)) complex array. It contains\n",
    "\t\t\t  the bases associated to the Pauli strings in idx.\n",
    "\t\"\"\"\n",
    "\t# define the one-qubit bases\n",
    "\tX = np.array([[1., 1.], [1., -1.]], dtype=complex)/np.sqrt(2)\n",
    "\tY = np.array([[1, 1], [1.*1j, -1.*1j]], dtype=complex)/np.sqrt(2) \n",
    "\tZ = np.array([[1, 0], [0, 1]], dtype=complex)\n",
    "\tsigma = np.stack([X, Y, Z], axis=-1)\n",
    "\tn_qubits = len(idx[0])\n",
    "\tbases = np.zeros((2**n_qubits, 2**n_qubits, len(idx)), dtype=\"complex\")\n",
    "\t# calculate all the combinations of tensor products\n",
    "\tfor i in range(len(idx)):\n",
    "\t\tbasis_i = 1\n",
    "\t\tfor k in range(n_qubits):\n",
    "\t\t\tbasis_i = np.kron(basis_i, sigma[:, :, int(idx[i][k])])\n",
    "\t\tbases[:, :, i] = basis_i\n",
    "\treturn bases\n",
    "\n",
    "\n",
    "def base2operator(matrix, vec=False):\n",
    "\t\"\"\"\n",
    "\tDada una lista de bases construye la representacion vectorial de el POVM\n",
    "\tIN\n",
    "\t\tmatrix: array di x di x N. Bases.\n",
    "\tOUT\n",
    "\t\tvectores: array di x N. Agrupa todos los observables\n",
    "\t\"\"\"\n",
    "\tdim = matrix.shape\n",
    "\tif len(dim) == 2:\n",
    "\t\tA = np.zeros((dim[0], dim[0], dim[1]), dtype=\"complex\")\n",
    "\t\tfor k in range(dim[1]):\n",
    "\t\t\tevector = matrix[:, k].reshape(-1, 1)\n",
    "\t\t\tprojector = np.kron(evector.conj().T, evector)\n",
    "\t\t\tA[:, :, k] = projector\n",
    "\telse:\n",
    "\t\tA = np.zeros((dim[0], dim[0], dim[2]*dim[1]), dtype=\"complex\")\n",
    "\t\tfor j in range(dim[2]):\n",
    "\t\t\tfor k in range(dim[1]):\n",
    "\t\t\t\tevector = matrix[:, k, j].reshape(-1, 1)\n",
    "\t\t\t\tprojector = np.kron(evector.conj().T, evector)\n",
    "\t\t\t\tA[:, :, dim[0]*j + k] = projector/int(matrix.shape[-1])\n",
    "\tif vec:\n",
    "\t\tA = A.reshape(dim[0]**2, -1, order=\"F\")\n",
    "\t\n",
    "\treturn A\n",
    "\n",
    "\n",
    "def density_matrix(di):\n",
    "\t\"Density matrix for a random pure state of dimension di\"\n",
    "\n",
    "\tpsi = sp.stats.unitary_group.rvs(di)[:, 0]\n",
    "\tdens = np.outer(psi.conj(), psi)\n",
    "\t\n",
    "\treturn dens\n",
    "\n",
    "\n",
    "\n",
    "def compressed_sensing(prob, A, epsilon):\n",
    "\t\"\"\"\n",
    "\tGets the density matrix using the matrix of POVMs A and the measured\n",
    "\tprobabilities using compressive sensing.\n",
    "\tIN\n",
    "\t\tprob: array (di*N, ). probabilities\n",
    "\t\tA: array (di, di, N). Matrix with all the POVM elements\n",
    "\tOUT\n",
    "\t\tdens: array (di, di). density matrix.\n",
    "\t\"\"\"\n",
    "\t# optimizacion convexa\n",
    "\tdi2 = A.shape[0]\n",
    "\tdi = int(np.sqrt(di2))\n",
    "\tde = cp.Variable((di, di), hermitian=True)\n",
    "\tconstraints = [de >> 0]\n",
    "\tconstraints += [cp.trace(de) == 1]\n",
    "\tconstraints += [cp.norm(A.conj().T@cp.reshape(de, (di2, 1), order=\"F\")\n",
    "\t\t\t\t   - prob.reshape(-1, 1)) <= epsilon]\n",
    "\tobjective = cp.Minimize(cp.normNuc(de))\n",
    "\tproblema = cp.Problem(objective, constraints)\n",
    "\tresult = problema.solve()\n",
    "\n",
    "\n",
    "\treturn de.value/np.trace(de.value)"
   ]
  },
  {
   "cell_type": "code",
   "execution_count": 68,
   "metadata": {},
   "outputs": [
    {
     "name": "stdout",
     "output_type": "stream",
     "text": [
      "['220' '222' '000' '011' '002']\n"
     ]
    }
   ],
   "source": [
    "# set the number of qubits, the Pauli bases to measure and the shots\n",
    "n_qubits = 3\n",
    "#dimensionality\n",
    "di = 2**n_qubits\n",
    "#idx = [\"000\", \"111\", \"222\"]\n",
    "idx = np.load(\"testC.npy\", allow_pickle=True)\n",
    "print(idx)\n",
    "n_shots = 10**6"
   ]
  },
  {
   "cell_type": "code",
   "execution_count": 69,
   "metadata": {},
   "outputs": [],
   "source": [
    "# definition state and others\n",
    "dens = density_matrix(di)\n",
    "paulis = string2paulibasis(idx)\n",
    "# vectorized version of the POVM\n",
    "vec_paulis = base2operator(paulis, True)\n",
    "# we calculate the exact probabilities and the ones with shot noise\n",
    "probs = np.abs(vec_paulis.conj().T@dens.reshape(-1, 1, order=\"F\"))\n",
    "exp_probs = np.random.multinomial(n_shots, probs.flatten())/n_shots"
   ]
  },
  {
   "cell_type": "code",
   "execution_count": 70,
   "metadata": {},
   "outputs": [
    {
     "name": "stdout",
     "output_type": "stream",
     "text": [
      "fidelity:  1.0 fidelity_shots:  0.998\n"
     ]
    }
   ],
   "source": [
    "# this is the tomography with a finite number of shots\n",
    "epsilon_shots = np.sqrt(np.sum(exp_probs*(1 - exp_probs))/n_shots)\n",
    "dens_estimated_shots = compressed_sensing(exp_probs, vec_paulis, epsilon_shots)\n",
    "# this is the tomography using an infinite number of shots\n",
    "epsilon = 0\n",
    "dens_estimated = compressed_sensing(probs, vec_paulis, epsilon)\n",
    "\n",
    "print(\"fidelity: \", np.round(np.abs(np.trace(dens_estimated@dens)), 3), \n",
    "      \"fidelity_shots: \", np.round(np.abs(np.trace(dens_estimated_shots@dens)), 3))"
   ]
  },
  {
   "cell_type": "markdown",
   "metadata": {},
   "source": [
    "## random pauli strings collection generation (from Adri)"
   ]
  },
  {
   "cell_type": "code",
   "execution_count": 52,
   "metadata": {},
   "outputs": [
    {
     "name": "stdout",
     "output_type": "stream",
     "text": [
      "['220', '222', '000', '011', '002']\n",
      "<class 'list'>\n"
     ]
    }
   ],
   "source": [
    "import random\n",
    "\n",
    "def generate_unique_base3_numbers(N, length):\n",
    "    \"\"\"\n",
    "    Generate a list of N unique random base-3 numbers (strings of digits 0, 1, 2).\n",
    "    \n",
    "    Parameters:\n",
    "        N (int): Number of unique numbers to generate.\n",
    "        length (int): Length of each number.\n",
    "    \n",
    "    Returns:\n",
    "        List[str]: A list of N unique base-3 numbers as strings.\n",
    "    \n",
    "    Raises:\n",
    "        ValueError: If N is greater than the number of possible unique base-3 numbers.\n",
    "    \"\"\"\n",
    "    max_possible = 3 ** length\n",
    "    if N > max_possible:\n",
    "        raise ValueError(f\"Cannot generate {N} unique numbers with length {length} — max is {max_possible}\")\n",
    "    \n",
    "    generated = set()\n",
    "    while len(generated) < N:\n",
    "        num = ''.join(random.choice('012') for _ in range(length))\n",
    "        generated.add(num)\n",
    "    \n",
    "    return list(generated)\n",
    "\n",
    "# Example usage:\n",
    "unique_numbers = generate_unique_base3_numbers(5, 3)\n",
    "print(unique_numbers) , print(type(unique_numbers)) # e.g., ['102', '201', '000', '021', '120']\n",
    "np.save('testC', np.array(unique_numbers))"
   ]
  },
  {
   "cell_type": "code",
   "execution_count": 62,
   "metadata": {},
   "outputs": [],
   "source": [
    "def class_string2pbasis(path):\n",
    "\t\"\"\"\n",
    "\tGiven a list of binary strings, gives the Pauli bases. \n",
    "\tPARAMETERS:\n",
    "\t\tpath: path to the list of strings of the form \"012...\" where  we do the following 0:X, 1: Y, 2:Z\n",
    "\tRETURNS:\n",
    "\t\tbases: (2**n_qubits, 2**n_qubits, len(idx)) complex array. It contains\n",
    "\t\t\t  the bases associated to the Pauli strings in idx.\n",
    "\t\"\"\"\n",
    "\tidx = np.load(path, allow_pickle=True)\n",
    "\tprint(idx)\n",
    "\t# define the one-qubit bases\n",
    "\tX = np.array([[1., 1.], [1., -1.]], dtype=complex)/np.sqrt(2)\n",
    "\tY = np.array([[1, 1], [1.*1j, -1.*1j]], dtype=complex)/np.sqrt(2) \n",
    "\tZ = np.array([[1, 0], [0, 1]], dtype=complex)\n",
    "\tsigma = np.stack([X, Y, Z], axis=-1)\n",
    "\tn_qubits = len(idx[0])\n",
    "\tbases = np.zeros((2**n_qubits, 2**n_qubits, len(idx)), dtype=\"complex\")\n",
    "\t# calculate all the combinations of tensor products\n",
    "\tfor i in range(len(idx)):\n",
    "\t\tbasis_i = 1\n",
    "\t\tfor k in range(n_qubits):\n",
    "\t\t\tbasis_i = np.kron(basis_i, sigma[:, :, int(idx[i][k])])\n",
    "\t\tbases[:, :, i] = basis_i\n",
    "\treturn bases"
   ]
  },
  {
   "cell_type": "code",
   "execution_count": 63,
   "metadata": {},
   "outputs": [
    {
     "name": "stdout",
     "output_type": "stream",
     "text": [
      "['220' '222' '000' '011' '002']\n"
     ]
    },
    {
     "data": {
      "text/plain": [
       "(8, 8, 5)"
      ]
     },
     "execution_count": 63,
     "metadata": {},
     "output_type": "execute_result"
    }
   ],
   "source": [
    "bb = string2paulibasis(unique_numbers)\n",
    "idx = np.load(\"testC.npy\", allow_pickle=True)\n",
    "print(idx)\n",
    "bb.shape"
   ]
  },
  {
   "cell_type": "code",
   "execution_count": 66,
   "metadata": {},
   "outputs": [
    {
     "name": "stdout",
     "output_type": "stream",
     "text": [
      "['220' '222' '000' '011' '002']\n"
     ]
    },
    {
     "data": {
      "text/plain": [
       "(8, 8, 5)"
      ]
     },
     "execution_count": 66,
     "metadata": {},
     "output_type": "execute_result"
    }
   ],
   "source": [
    "bc = class_string2pbasis('testC.npy')\n",
    "bc.shape"
   ]
  },
  {
   "cell_type": "code",
   "execution_count": null,
   "metadata": {},
   "outputs": [],
   "source": []
  }
 ],
 "metadata": {
  "kernelspec": {
   "display_name": "thecvx",
   "language": "python",
   "name": "python3"
  },
  "language_info": {
   "codemirror_mode": {
    "name": "ipython",
    "version": 3
   },
   "file_extension": ".py",
   "mimetype": "text/x-python",
   "name": "python",
   "nbconvert_exporter": "python",
   "pygments_lexer": "ipython3",
   "version": "3.9.0"
  }
 },
 "nbformat": 4,
 "nbformat_minor": 2
}
